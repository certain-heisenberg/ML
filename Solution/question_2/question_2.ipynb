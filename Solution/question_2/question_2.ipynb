{
 "cells": [
  {
   "cell_type": "markdown",
   "metadata": {},
   "source": [
    "### In this I have gone through all of the different features of data and found many of them to be redundant, specially 'product_rating' and 'overall_rating'. Since there is no rating available for 18151 out of 20000 products bought. But found 'product_category_tree' and 'description' features showing important details about the products bought. So I have implemented NLP model to predict for recommendations based on the processing of bag of words obtained from 'description' feature."
   ]
  },
  {
   "cell_type": "markdown",
   "metadata": {},
   "source": [
    "### Importing libraries"
   ]
  },
  {
   "cell_type": "code",
   "execution_count": 1,
   "metadata": {},
   "outputs": [],
   "source": [
    "import pandas as pd\n",
    "import numpy as np\n",
    "import matplotlib.pyplot as plt\n",
    "import cv2\n",
    "import seaborn as sns \n",
    "import gc, sys"
   ]
  },
  {
   "cell_type": "markdown",
   "metadata": {},
   "source": [
    "### Reading dataset"
   ]
  },
  {
   "cell_type": "code",
   "execution_count": 2,
   "metadata": {},
   "outputs": [],
   "source": [
    "train = pd.read_csv('/home/supershernon/Downloads/ecommerce_sample_dataset.csv')\n",
    "#dataset :: https://drive.google.com/drive/folders/1lqYy4OvsjdkGZX46JzZW1DW-phmGNhND"
   ]
  },
  {
   "cell_type": "code",
   "execution_count": 3,
   "metadata": {},
   "outputs": [
    {
     "name": "stdout",
     "output_type": "stream",
     "text": [
      "<class 'pandas.core.frame.DataFrame'>\n",
      "RangeIndex: 20000 entries, 0 to 19999\n",
      "Data columns (total 15 columns):\n",
      " #   Column                   Non-Null Count  Dtype  \n",
      "---  ------                   --------------  -----  \n",
      " 0   uniq_id                  20000 non-null  object \n",
      " 1   crawl_timestamp          20000 non-null  object \n",
      " 2   product_url              20000 non-null  object \n",
      " 3   product_name             20000 non-null  object \n",
      " 4   product_category_tree    20000 non-null  object \n",
      " 5   pid                      20000 non-null  object \n",
      " 6   retail_price             19922 non-null  float64\n",
      " 7   discounted_price         19922 non-null  float64\n",
      " 8   image                    19997 non-null  object \n",
      " 9   is_FK_Advantage_product  20000 non-null  bool   \n",
      " 10  description              19998 non-null  object \n",
      " 11  product_rating           20000 non-null  object \n",
      " 12  overall_rating           20000 non-null  object \n",
      " 13  brand                    14136 non-null  object \n",
      " 14  product_specifications   19986 non-null  object \n",
      "dtypes: bool(1), float64(2), object(12)\n",
      "memory usage: 2.2+ MB\n"
     ]
    }
   ],
   "source": [
    "train.info()"
   ]
  },
  {
   "cell_type": "code",
   "execution_count": 4,
   "metadata": {},
   "outputs": [
    {
     "data": {
      "text/html": [
       "<div>\n",
       "<style scoped>\n",
       "    .dataframe tbody tr th:only-of-type {\n",
       "        vertical-align: middle;\n",
       "    }\n",
       "\n",
       "    .dataframe tbody tr th {\n",
       "        vertical-align: top;\n",
       "    }\n",
       "\n",
       "    .dataframe thead th {\n",
       "        text-align: right;\n",
       "    }\n",
       "</style>\n",
       "<table border=\"1\" class=\"dataframe\">\n",
       "  <thead>\n",
       "    <tr style=\"text-align: right;\">\n",
       "      <th></th>\n",
       "      <th>uniq_id</th>\n",
       "      <th>crawl_timestamp</th>\n",
       "      <th>product_url</th>\n",
       "      <th>product_name</th>\n",
       "      <th>product_category_tree</th>\n",
       "      <th>pid</th>\n",
       "      <th>retail_price</th>\n",
       "      <th>discounted_price</th>\n",
       "      <th>image</th>\n",
       "      <th>is_FK_Advantage_product</th>\n",
       "      <th>description</th>\n",
       "      <th>product_rating</th>\n",
       "      <th>overall_rating</th>\n",
       "      <th>brand</th>\n",
       "      <th>product_specifications</th>\n",
       "    </tr>\n",
       "  </thead>\n",
       "  <tbody>\n",
       "    <tr>\n",
       "      <th>0</th>\n",
       "      <td>c2d766ca982eca8304150849735ffef9</td>\n",
       "      <td>2016-03-25 22:59:23 +0000</td>\n",
       "      <td>http://www.flipkart.com/alisha-solid-women-s-c...</td>\n",
       "      <td>Alisha Solid Women's Cycling Shorts</td>\n",
       "      <td>[\"Clothing &gt;&gt; Women's Clothing &gt;&gt; Lingerie, Sl...</td>\n",
       "      <td>SRTEH2FF9KEDEFGF</td>\n",
       "      <td>999.0</td>\n",
       "      <td>379.0</td>\n",
       "      <td>[\"http://img5a.flixcart.com/image/short/u/4/a/...</td>\n",
       "      <td>False</td>\n",
       "      <td>Key Features of Alisha Solid Women's Cycling S...</td>\n",
       "      <td>No rating available</td>\n",
       "      <td>No rating available</td>\n",
       "      <td>Alisha</td>\n",
       "      <td>{\"product_specification\"=&gt;[{\"key\"=&gt;\"Number of ...</td>\n",
       "    </tr>\n",
       "    <tr>\n",
       "      <th>1</th>\n",
       "      <td>7f7036a6d550aaa89d34c77bd39a5e48</td>\n",
       "      <td>2016-03-25 22:59:23 +0000</td>\n",
       "      <td>http://www.flipkart.com/fabhomedecor-fabric-do...</td>\n",
       "      <td>FabHomeDecor Fabric Double Sofa Bed</td>\n",
       "      <td>[\"Furniture &gt;&gt; Living Room Furniture &gt;&gt; Sofa B...</td>\n",
       "      <td>SBEEH3QGU7MFYJFY</td>\n",
       "      <td>32157.0</td>\n",
       "      <td>22646.0</td>\n",
       "      <td>[\"http://img6a.flixcart.com/image/sofa-bed/j/f...</td>\n",
       "      <td>False</td>\n",
       "      <td>FabHomeDecor Fabric Double Sofa Bed (Finish Co...</td>\n",
       "      <td>No rating available</td>\n",
       "      <td>No rating available</td>\n",
       "      <td>FabHomeDecor</td>\n",
       "      <td>{\"product_specification\"=&gt;[{\"key\"=&gt;\"Installati...</td>\n",
       "    </tr>\n",
       "    <tr>\n",
       "      <th>2</th>\n",
       "      <td>f449ec65dcbc041b6ae5e6a32717d01b</td>\n",
       "      <td>2016-03-25 22:59:23 +0000</td>\n",
       "      <td>http://www.flipkart.com/aw-bellies/p/itmeh4grg...</td>\n",
       "      <td>AW Bellies</td>\n",
       "      <td>[\"Footwear &gt;&gt; Women's Footwear &gt;&gt; Ballerinas &gt;...</td>\n",
       "      <td>SHOEH4GRSUBJGZXE</td>\n",
       "      <td>999.0</td>\n",
       "      <td>499.0</td>\n",
       "      <td>[\"http://img5a.flixcart.com/image/shoe/7/z/z/r...</td>\n",
       "      <td>False</td>\n",
       "      <td>Key Features of AW Bellies Sandals Wedges Heel...</td>\n",
       "      <td>No rating available</td>\n",
       "      <td>No rating available</td>\n",
       "      <td>AW</td>\n",
       "      <td>{\"product_specification\"=&gt;[{\"key\"=&gt;\"Ideal For\"...</td>\n",
       "    </tr>\n",
       "    <tr>\n",
       "      <th>3</th>\n",
       "      <td>0973b37acd0c664e3de26e97e5571454</td>\n",
       "      <td>2016-03-25 22:59:23 +0000</td>\n",
       "      <td>http://www.flipkart.com/alisha-solid-women-s-c...</td>\n",
       "      <td>Alisha Solid Women's Cycling Shorts</td>\n",
       "      <td>[\"Clothing &gt;&gt; Women's Clothing &gt;&gt; Lingerie, Sl...</td>\n",
       "      <td>SRTEH2F6HUZMQ6SJ</td>\n",
       "      <td>699.0</td>\n",
       "      <td>267.0</td>\n",
       "      <td>[\"http://img5a.flixcart.com/image/short/6/2/h/...</td>\n",
       "      <td>False</td>\n",
       "      <td>Key Features of Alisha Solid Women's Cycling S...</td>\n",
       "      <td>No rating available</td>\n",
       "      <td>No rating available</td>\n",
       "      <td>Alisha</td>\n",
       "      <td>{\"product_specification\"=&gt;[{\"key\"=&gt;\"Number of ...</td>\n",
       "    </tr>\n",
       "    <tr>\n",
       "      <th>4</th>\n",
       "      <td>bc940ea42ee6bef5ac7cea3fb5cfbee7</td>\n",
       "      <td>2016-03-25 22:59:23 +0000</td>\n",
       "      <td>http://www.flipkart.com/sicons-all-purpose-arn...</td>\n",
       "      <td>Sicons All Purpose Arnica Dog Shampoo</td>\n",
       "      <td>[\"Pet Supplies &gt;&gt; Grooming &gt;&gt; Skin &amp; Coat Care...</td>\n",
       "      <td>PSOEH3ZYDMSYARJ5</td>\n",
       "      <td>220.0</td>\n",
       "      <td>210.0</td>\n",
       "      <td>[\"http://img5a.flixcart.com/image/pet-shampoo/...</td>\n",
       "      <td>False</td>\n",
       "      <td>Specifications of Sicons All Purpose Arnica Do...</td>\n",
       "      <td>No rating available</td>\n",
       "      <td>No rating available</td>\n",
       "      <td>Sicons</td>\n",
       "      <td>{\"product_specification\"=&gt;[{\"key\"=&gt;\"Pet Type\",...</td>\n",
       "    </tr>\n",
       "  </tbody>\n",
       "</table>\n",
       "</div>"
      ],
      "text/plain": [
       "                            uniq_id            crawl_timestamp  \\\n",
       "0  c2d766ca982eca8304150849735ffef9  2016-03-25 22:59:23 +0000   \n",
       "1  7f7036a6d550aaa89d34c77bd39a5e48  2016-03-25 22:59:23 +0000   \n",
       "2  f449ec65dcbc041b6ae5e6a32717d01b  2016-03-25 22:59:23 +0000   \n",
       "3  0973b37acd0c664e3de26e97e5571454  2016-03-25 22:59:23 +0000   \n",
       "4  bc940ea42ee6bef5ac7cea3fb5cfbee7  2016-03-25 22:59:23 +0000   \n",
       "\n",
       "                                         product_url  \\\n",
       "0  http://www.flipkart.com/alisha-solid-women-s-c...   \n",
       "1  http://www.flipkart.com/fabhomedecor-fabric-do...   \n",
       "2  http://www.flipkart.com/aw-bellies/p/itmeh4grg...   \n",
       "3  http://www.flipkart.com/alisha-solid-women-s-c...   \n",
       "4  http://www.flipkart.com/sicons-all-purpose-arn...   \n",
       "\n",
       "                            product_name  \\\n",
       "0    Alisha Solid Women's Cycling Shorts   \n",
       "1    FabHomeDecor Fabric Double Sofa Bed   \n",
       "2                             AW Bellies   \n",
       "3    Alisha Solid Women's Cycling Shorts   \n",
       "4  Sicons All Purpose Arnica Dog Shampoo   \n",
       "\n",
       "                               product_category_tree               pid  \\\n",
       "0  [\"Clothing >> Women's Clothing >> Lingerie, Sl...  SRTEH2FF9KEDEFGF   \n",
       "1  [\"Furniture >> Living Room Furniture >> Sofa B...  SBEEH3QGU7MFYJFY   \n",
       "2  [\"Footwear >> Women's Footwear >> Ballerinas >...  SHOEH4GRSUBJGZXE   \n",
       "3  [\"Clothing >> Women's Clothing >> Lingerie, Sl...  SRTEH2F6HUZMQ6SJ   \n",
       "4  [\"Pet Supplies >> Grooming >> Skin & Coat Care...  PSOEH3ZYDMSYARJ5   \n",
       "\n",
       "   retail_price  discounted_price  \\\n",
       "0         999.0             379.0   \n",
       "1       32157.0           22646.0   \n",
       "2         999.0             499.0   \n",
       "3         699.0             267.0   \n",
       "4         220.0             210.0   \n",
       "\n",
       "                                               image  is_FK_Advantage_product  \\\n",
       "0  [\"http://img5a.flixcart.com/image/short/u/4/a/...                    False   \n",
       "1  [\"http://img6a.flixcart.com/image/sofa-bed/j/f...                    False   \n",
       "2  [\"http://img5a.flixcart.com/image/shoe/7/z/z/r...                    False   \n",
       "3  [\"http://img5a.flixcart.com/image/short/6/2/h/...                    False   \n",
       "4  [\"http://img5a.flixcart.com/image/pet-shampoo/...                    False   \n",
       "\n",
       "                                         description       product_rating  \\\n",
       "0  Key Features of Alisha Solid Women's Cycling S...  No rating available   \n",
       "1  FabHomeDecor Fabric Double Sofa Bed (Finish Co...  No rating available   \n",
       "2  Key Features of AW Bellies Sandals Wedges Heel...  No rating available   \n",
       "3  Key Features of Alisha Solid Women's Cycling S...  No rating available   \n",
       "4  Specifications of Sicons All Purpose Arnica Do...  No rating available   \n",
       "\n",
       "        overall_rating         brand  \\\n",
       "0  No rating available        Alisha   \n",
       "1  No rating available  FabHomeDecor   \n",
       "2  No rating available            AW   \n",
       "3  No rating available        Alisha   \n",
       "4  No rating available        Sicons   \n",
       "\n",
       "                              product_specifications  \n",
       "0  {\"product_specification\"=>[{\"key\"=>\"Number of ...  \n",
       "1  {\"product_specification\"=>[{\"key\"=>\"Installati...  \n",
       "2  {\"product_specification\"=>[{\"key\"=>\"Ideal For\"...  \n",
       "3  {\"product_specification\"=>[{\"key\"=>\"Number of ...  \n",
       "4  {\"product_specification\"=>[{\"key\"=>\"Pet Type\",...  "
      ]
     },
     "execution_count": 4,
     "metadata": {},
     "output_type": "execute_result"
    }
   ],
   "source": [
    "train.head()"
   ]
  },
  {
   "cell_type": "code",
   "execution_count": 5,
   "metadata": {},
   "outputs": [
    {
     "data": {
      "text/plain": [
       "12676"
      ]
     },
     "execution_count": 5,
     "metadata": {},
     "output_type": "execute_result"
    }
   ],
   "source": [
    "products=train['product_name'].unique()\n",
    "len(products)"
   ]
  },
  {
   "cell_type": "markdown",
   "metadata": {},
   "source": [
    "### There are 12676 unique products in this dataset"
   ]
  },
  {
   "cell_type": "code",
   "execution_count": 6,
   "metadata": {},
   "outputs": [
    {
     "name": "stdout",
     "output_type": "stream",
     "text": [
      "<class 'str'> \n",
      "\n",
      "[\"Furniture >> Living Room Furniture >> Sofa Beds & Futons >> FabHomeDecor Fabric Double Sofa Bed (Finish Colo...\"] \n",
      "\n",
      "1\n"
     ]
    }
   ],
   "source": [
    "category_tree=train['product_category_tree']\n",
    "print(type(category_tree[7]),'\\n')\n",
    "print(category_tree[7],'\\n')\n",
    "print(len([train[train['product_category_tree'].isnull()]]))"
   ]
  },
  {
   "cell_type": "markdown",
   "metadata": {},
   "source": [
    "### 'product_category_tree' is of type string"
   ]
  },
  {
   "cell_type": "code",
   "execution_count": 7,
   "metadata": {},
   "outputs": [
    {
     "data": {
      "text/plain": [
       "False    19215\n",
       "True       785\n",
       "Name: is_FK_Advantage_product, dtype: int64"
      ]
     },
     "execution_count": 7,
     "metadata": {},
     "output_type": "execute_result"
    }
   ],
   "source": [
    "train['is_FK_Advantage_product'].value_counts()"
   ]
  },
  {
   "cell_type": "markdown",
   "metadata": {},
   "source": [
    "### Above details shows that 'is_FK_Advantage_product' is not an important feature"
   ]
  },
  {
   "cell_type": "code",
   "execution_count": 8,
   "metadata": {},
   "outputs": [
    {
     "name": "stdout",
     "output_type": "stream",
     "text": [
      "5864\n",
      "3500\n"
     ]
    },
    {
     "data": {
      "text/plain": [
       "count           14136\n",
       "unique           3499\n",
       "top       Allure Auto\n",
       "freq              469\n",
       "Name: brand, dtype: object"
      ]
     },
     "execution_count": 8,
     "metadata": {},
     "output_type": "execute_result"
    }
   ],
   "source": [
    "not_a_brand=train[train['brand'].isnull()]\n",
    "brand=train['brand'].unique()\n",
    "print(len(not_a_brand))\n",
    "print(len(brand))\n",
    "train['brand'].describe()"
   ]
  },
  {
   "cell_type": "markdown",
   "metadata": {},
   "source": [
    "### We can see that 5864 products have not been specified any brand. There is a lot of missing 'brand' values"
   ]
  },
  {
   "cell_type": "code",
   "execution_count": 9,
   "metadata": {},
   "outputs": [
    {
     "data": {
      "text/plain": [
       "\"Key Features of Alisha Solid Women's Cycling Shorts Cotton Lycra Navy, Red, Navy,Specifications of Alisha Solid Women's Cycling Shorts Shorts Details Number of Contents in Sales Package Pack of 3 Fabric Cotton Lycra Type Cycling Shorts General Details Pattern Solid Ideal For Women's Fabric Care Gentle Machine Wash in Lukewarm Water, Do Not Bleach Additional Details Style Code ALTHT_3P_21 In the Box 3 shorts\""
      ]
     },
     "execution_count": 9,
     "metadata": {},
     "output_type": "execute_result"
    }
   ],
   "source": [
    "train['description'][0]"
   ]
  },
  {
   "cell_type": "code",
   "execution_count": 10,
   "metadata": {},
   "outputs": [
    {
     "name": "stdout",
     "output_type": "stream",
     "text": [
      "20000 \n",
      "\n",
      "{\"product_specification\"=>[{\"key\"=>\"Number of Contents in Sales Package\", \"value\"=>\"Pack of 3\"}, {\"key\"=>\"Fabric\", \"value\"=>\"Cotton Lycra\"}, {\"key\"=>\"Type\", \"value\"=>\"Cycling Shorts\"}, {\"key\"=>\"Pattern\", \"value\"=>\"Solid\"}, {\"key\"=>\"Ideal For\", \"value\"=>\"Women's\"}, {\"value\"=>\"Gentle Machine Wash in Lukewarm Water, Do Not Bleach\"}, {\"key\"=>\"Style Code\", \"value\"=>\"ALTHT_3P_21\"}, {\"value\"=>\"3 shorts\"}]}\n"
     ]
    }
   ],
   "source": [
    "product_specifications=train['product_specifications']\n",
    "print(len(product_specifications),'\\n')\n",
    "print(product_specifications[0])"
   ]
  },
  {
   "cell_type": "markdown",
   "metadata": {},
   "source": [
    "### We can see that all the important details in 'product_specifications' feature is shown by corresponding 'description' feature."
   ]
  },
  {
   "cell_type": "code",
   "execution_count": 11,
   "metadata": {},
   "outputs": [
    {
     "name": "stdout",
     "output_type": "stream",
     "text": [
      "36\n"
     ]
    },
    {
     "data": {
      "text/plain": [
       "No rating available    18151\n",
       "5                        620\n",
       "4                        246\n",
       "1                        171\n",
       "3                        168\n",
       "Name: product_rating, dtype: int64"
      ]
     },
     "execution_count": 11,
     "metadata": {},
     "output_type": "execute_result"
    }
   ],
   "source": [
    "rating=train['product_rating'].unique()\n",
    "print(len(rating))\n",
    "product_rating = train['product_rating'].value_counts(sort=True)\n",
    "product_rating.head()"
   ]
  },
  {
   "cell_type": "code",
   "execution_count": 12,
   "metadata": {},
   "outputs": [
    {
     "data": {
      "text/plain": [
       "No rating available    18151\n",
       "5                        620\n",
       "4                        246\n",
       "1                        171\n",
       "3                        168\n",
       "Name: overall_rating, dtype: int64"
      ]
     },
     "execution_count": 12,
     "metadata": {},
     "output_type": "execute_result"
    }
   ],
   "source": [
    "train['overall_rating'].value_counts(sort=True).head()"
   ]
  },
  {
   "cell_type": "markdown",
   "metadata": {},
   "source": [
    "### There are 36 different types of rating in this dataset but the products has been rated very very few times compared to the number of times products bought, thus showing better prediction can't be designed on this feature."
   ]
  },
  {
   "cell_type": "code",
   "execution_count": 13,
   "metadata": {},
   "outputs": [
    {
     "data": {
      "image/png": "[encoded data removed]",
      "text/plain": [
       "<Figure size 720x936 with 1 Axes>"
      ]
     },
     "metadata": {
      "needs_background": "light"
     },
     "output_type": "display_data"
    }
   ],
   "source": [
    "plt.figure(figsize=(10,13))\n",
    "plt.rc(\"font\", size=10)\n",
    "train.product_rating.value_counts(sort=True).plot(kind='barh')\n",
    "plt.title(\"Product Rating\")\n",
    "plt.xlabel('Count')\n",
    "plt.ylabel('Rating')\n",
    "plt.legend(loc='best')\n",
    "plt.show()"
   ]
  },
  {
   "cell_type": "markdown",
   "metadata": {},
   "source": [
    "### Top 20 Popular Brands"
   ]
  },
  {
   "cell_type": "code",
   "execution_count": 14,
   "metadata": {},
   "outputs": [
    {
     "data": {
      "image/png": "[encoded data removed]",
      "text/plain": [
       "<Figure size 720x936 with 1 Axes>"
      ]
     },
     "metadata": {
      "needs_background": "light"
     },
     "output_type": "display_data"
    }
   ],
   "source": [
    "plt.figure(figsize=(10,13))\n",
    "plt.rc(\"font\", size=10)\n",
    "train['brand'].value_counts()[:20].sort_values(ascending=True).plot(kind='barh')\n",
    "plt.title(\"Popular Brands\")\n",
    "plt.xlabel('Count')\n",
    "plt.ylabel('Brand')\n",
    "plt.legend(loc='best')\n",
    "plt.show()"
   ]
  },
  {
   "cell_type": "markdown",
   "metadata": {},
   "source": [
    "### Below I have counted numbers of each of the unique products in the dataframe and took these values in another dataframe then merged this dataframe to 'train'."
   ]
  },
  {
   "cell_type": "code",
   "execution_count": 15,
   "metadata": {},
   "outputs": [
    {
     "name": "stdout",
     "output_type": "stream",
     "text": [
      "Number of Unique products = 12676\n"
     ]
    },
    {
     "data": {
      "text/html": [
       "<div>\n",
       "<style scoped>\n",
       "    .dataframe tbody tr th:only-of-type {\n",
       "        vertical-align: middle;\n",
       "    }\n",
       "\n",
       "    .dataframe tbody tr th {\n",
       "        vertical-align: top;\n",
       "    }\n",
       "\n",
       "    .dataframe thead th {\n",
       "        text-align: right;\n",
       "    }\n",
       "</style>\n",
       "<table border=\"1\" class=\"dataframe\">\n",
       "  <thead>\n",
       "    <tr style=\"text-align: right;\">\n",
       "      <th></th>\n",
       "      <th>uniq_id</th>\n",
       "      <th>crawl_timestamp</th>\n",
       "      <th>product_url</th>\n",
       "      <th>product_name</th>\n",
       "      <th>product_category_tree</th>\n",
       "      <th>pid</th>\n",
       "      <th>retail_price</th>\n",
       "      <th>discounted_price</th>\n",
       "      <th>image</th>\n",
       "      <th>is_FK_Advantage_product</th>\n",
       "      <th>description</th>\n",
       "      <th>product_rating</th>\n",
       "      <th>overall_rating</th>\n",
       "      <th>brand</th>\n",
       "      <th>product_specifications</th>\n",
       "      <th>product_count</th>\n",
       "    </tr>\n",
       "  </thead>\n",
       "  <tbody>\n",
       "    <tr>\n",
       "      <th>0</th>\n",
       "      <td>c2d766ca982eca8304150849735ffef9</td>\n",
       "      <td>2016-03-25 22:59:23 +0000</td>\n",
       "      <td>http://www.flipkart.com/alisha-solid-women-s-c...</td>\n",
       "      <td>Alisha Solid Women's Cycling Shorts</td>\n",
       "      <td>[\"Clothing &gt;&gt; Women's Clothing &gt;&gt; Lingerie, Sl...</td>\n",
       "      <td>SRTEH2FF9KEDEFGF</td>\n",
       "      <td>999.0</td>\n",
       "      <td>379.0</td>\n",
       "      <td>[\"http://img5a.flixcart.com/image/short/u/4/a/...</td>\n",
       "      <td>False</td>\n",
       "      <td>Key Features of Alisha Solid Women's Cycling S...</td>\n",
       "      <td>No rating available</td>\n",
       "      <td>No rating available</td>\n",
       "      <td>Alisha</td>\n",
       "      <td>{\"product_specification\"=&gt;[{\"key\"=&gt;\"Number of ...</td>\n",
       "      <td>7</td>\n",
       "    </tr>\n",
       "    <tr>\n",
       "      <th>1</th>\n",
       "      <td>7f7036a6d550aaa89d34c77bd39a5e48</td>\n",
       "      <td>2016-03-25 22:59:23 +0000</td>\n",
       "      <td>http://www.flipkart.com/fabhomedecor-fabric-do...</td>\n",
       "      <td>FabHomeDecor Fabric Double Sofa Bed</td>\n",
       "      <td>[\"Furniture &gt;&gt; Living Room Furniture &gt;&gt; Sofa B...</td>\n",
       "      <td>SBEEH3QGU7MFYJFY</td>\n",
       "      <td>32157.0</td>\n",
       "      <td>22646.0</td>\n",
       "      <td>[\"http://img6a.flixcart.com/image/sofa-bed/j/f...</td>\n",
       "      <td>False</td>\n",
       "      <td>FabHomeDecor Fabric Double Sofa Bed (Finish Co...</td>\n",
       "      <td>No rating available</td>\n",
       "      <td>No rating available</td>\n",
       "      <td>FabHomeDecor</td>\n",
       "      <td>{\"product_specification\"=&gt;[{\"key\"=&gt;\"Installati...</td>\n",
       "      <td>4</td>\n",
       "    </tr>\n",
       "    <tr>\n",
       "      <th>2</th>\n",
       "      <td>f449ec65dcbc041b6ae5e6a32717d01b</td>\n",
       "      <td>2016-03-25 22:59:23 +0000</td>\n",
       "      <td>http://www.flipkart.com/aw-bellies/p/itmeh4grg...</td>\n",
       "      <td>AW Bellies</td>\n",
       "      <td>[\"Footwear &gt;&gt; Women's Footwear &gt;&gt; Ballerinas &gt;...</td>\n",
       "      <td>SHOEH4GRSUBJGZXE</td>\n",
       "      <td>999.0</td>\n",
       "      <td>499.0</td>\n",
       "      <td>[\"http://img5a.flixcart.com/image/shoe/7/z/z/r...</td>\n",
       "      <td>False</td>\n",
       "      <td>Key Features of AW Bellies Sandals Wedges Heel...</td>\n",
       "      <td>No rating available</td>\n",
       "      <td>No rating available</td>\n",
       "      <td>AW</td>\n",
       "      <td>{\"product_specification\"=&gt;[{\"key\"=&gt;\"Ideal For\"...</td>\n",
       "      <td>1</td>\n",
       "    </tr>\n",
       "    <tr>\n",
       "      <th>3</th>\n",
       "      <td>0973b37acd0c664e3de26e97e5571454</td>\n",
       "      <td>2016-03-25 22:59:23 +0000</td>\n",
       "      <td>http://www.flipkart.com/alisha-solid-women-s-c...</td>\n",
       "      <td>Alisha Solid Women's Cycling Shorts</td>\n",
       "      <td>[\"Clothing &gt;&gt; Women's Clothing &gt;&gt; Lingerie, Sl...</td>\n",
       "      <td>SRTEH2F6HUZMQ6SJ</td>\n",
       "      <td>699.0</td>\n",
       "      <td>267.0</td>\n",
       "      <td>[\"http://img5a.flixcart.com/image/short/6/2/h/...</td>\n",
       "      <td>False</td>\n",
       "      <td>Key Features of Alisha Solid Women's Cycling S...</td>\n",
       "      <td>No rating available</td>\n",
       "      <td>No rating available</td>\n",
       "      <td>Alisha</td>\n",
       "      <td>{\"product_specification\"=&gt;[{\"key\"=&gt;\"Number of ...</td>\n",
       "      <td>7</td>\n",
       "    </tr>\n",
       "    <tr>\n",
       "      <th>4</th>\n",
       "      <td>bc940ea42ee6bef5ac7cea3fb5cfbee7</td>\n",
       "      <td>2016-03-25 22:59:23 +0000</td>\n",
       "      <td>http://www.flipkart.com/sicons-all-purpose-arn...</td>\n",
       "      <td>Sicons All Purpose Arnica Dog Shampoo</td>\n",
       "      <td>[\"Pet Supplies &gt;&gt; Grooming &gt;&gt; Skin &amp; Coat Care...</td>\n",
       "      <td>PSOEH3ZYDMSYARJ5</td>\n",
       "      <td>220.0</td>\n",
       "      <td>210.0</td>\n",
       "      <td>[\"http://img5a.flixcart.com/image/pet-shampoo/...</td>\n",
       "      <td>False</td>\n",
       "      <td>Specifications of Sicons All Purpose Arnica Do...</td>\n",
       "      <td>No rating available</td>\n",
       "      <td>No rating available</td>\n",
       "      <td>Sicons</td>\n",
       "      <td>{\"product_specification\"=&gt;[{\"key\"=&gt;\"Pet Type\",...</td>\n",
       "      <td>1</td>\n",
       "    </tr>\n",
       "  </tbody>\n",
       "</table>\n",
       "</div>"
      ],
      "text/plain": [
       "                            uniq_id            crawl_timestamp  \\\n",
       "0  c2d766ca982eca8304150849735ffef9  2016-03-25 22:59:23 +0000   \n",
       "1  7f7036a6d550aaa89d34c77bd39a5e48  2016-03-25 22:59:23 +0000   \n",
       "2  f449ec65dcbc041b6ae5e6a32717d01b  2016-03-25 22:59:23 +0000   \n",
       "3  0973b37acd0c664e3de26e97e5571454  2016-03-25 22:59:23 +0000   \n",
       "4  bc940ea42ee6bef5ac7cea3fb5cfbee7  2016-03-25 22:59:23 +0000   \n",
       "\n",
       "                                         product_url  \\\n",
       "0  http://www.flipkart.com/alisha-solid-women-s-c...   \n",
       "1  http://www.flipkart.com/fabhomedecor-fabric-do...   \n",
       "2  http://www.flipkart.com/aw-bellies/p/itmeh4grg...   \n",
       "3  http://www.flipkart.com/alisha-solid-women-s-c...   \n",
       "4  http://www.flipkart.com/sicons-all-purpose-arn...   \n",
       "\n",
       "                            product_name  \\\n",
       "0    Alisha Solid Women's Cycling Shorts   \n",
       "1    FabHomeDecor Fabric Double Sofa Bed   \n",
       "2                             AW Bellies   \n",
       "3    Alisha Solid Women's Cycling Shorts   \n",
       "4  Sicons All Purpose Arnica Dog Shampoo   \n",
       "\n",
       "                               product_category_tree               pid  \\\n",
       "0  [\"Clothing >> Women's Clothing >> Lingerie, Sl...  SRTEH2FF9KEDEFGF   \n",
       "1  [\"Furniture >> Living Room Furniture >> Sofa B...  SBEEH3QGU7MFYJFY   \n",
       "2  [\"Footwear >> Women's Footwear >> Ballerinas >...  SHOEH4GRSUBJGZXE   \n",
       "3  [\"Clothing >> Women's Clothing >> Lingerie, Sl...  SRTEH2F6HUZMQ6SJ   \n",
       "4  [\"Pet Supplies >> Grooming >> Skin & Coat Care...  PSOEH3ZYDMSYARJ5   \n",
       "\n",
       "   retail_price  discounted_price  \\\n",
       "0         999.0             379.0   \n",
       "1       32157.0           22646.0   \n",
       "2         999.0             499.0   \n",
       "3         699.0             267.0   \n",
       "4         220.0             210.0   \n",
       "\n",
       "                                               image  is_FK_Advantage_product  \\\n",
       "0  [\"http://img5a.flixcart.com/image/short/u/4/a/...                    False   \n",
       "1  [\"http://img6a.flixcart.com/image/sofa-bed/j/f...                    False   \n",
       "2  [\"http://img5a.flixcart.com/image/shoe/7/z/z/r...                    False   \n",
       "3  [\"http://img5a.flixcart.com/image/short/6/2/h/...                    False   \n",
       "4  [\"http://img5a.flixcart.com/image/pet-shampoo/...                    False   \n",
       "\n",
       "                                         description       product_rating  \\\n",
       "0  Key Features of Alisha Solid Women's Cycling S...  No rating available   \n",
       "1  FabHomeDecor Fabric Double Sofa Bed (Finish Co...  No rating available   \n",
       "2  Key Features of AW Bellies Sandals Wedges Heel...  No rating available   \n",
       "3  Key Features of Alisha Solid Women's Cycling S...  No rating available   \n",
       "4  Specifications of Sicons All Purpose Arnica Do...  No rating available   \n",
       "\n",
       "        overall_rating         brand  \\\n",
       "0  No rating available        Alisha   \n",
       "1  No rating available  FabHomeDecor   \n",
       "2  No rating available            AW   \n",
       "3  No rating available        Alisha   \n",
       "4  No rating available        Sicons   \n",
       "\n",
       "                              product_specifications  product_count  \n",
       "0  {\"product_specification\"=>[{\"key\"=>\"Number of ...              7  \n",
       "1  {\"product_specification\"=>[{\"key\"=>\"Installati...              4  \n",
       "2  {\"product_specification\"=>[{\"key\"=>\"Ideal For\"...              1  \n",
       "3  {\"product_specification\"=>[{\"key\"=>\"Number of ...              7  \n",
       "4  {\"product_specification\"=>[{\"key\"=>\"Pet Type\",...              1  "
      ]
     },
     "execution_count": 15,
     "metadata": {},
     "output_type": "execute_result"
    }
   ],
   "source": [
    "def drop_y(df):\n",
    "    to_drop = [x for x in df if x.endswith('_y')]\n",
    "    df.drop(to_drop, axis=1, inplace=True)\n",
    "    \n",
    "product_count = train['product_name'].value_counts().reset_index().rename(columns = {'product_name': 'product_count', 'index': 'product_name'})\n",
    "print(\"Number of Unique products = {}\" .format(len(product_count)))\n",
    "train = pd.merge(left=train, right=product_count, on=\"product_name\", how=\"left\", suffixes=('', '_y'))\n",
    "drop_y(train)\n",
    "train.head()"
   ]
  },
  {
   "cell_type": "code",
   "execution_count": 16,
   "metadata": {},
   "outputs": [
    {
     "data": {
      "text/plain": [
       "<matplotlib.axes._subplots.AxesSubplot at 0x7ff1578935f8>"
      ]
     },
     "execution_count": 16,
     "metadata": {},
     "output_type": "execute_result"
    },
    {
     "data": {
      "image/png": "[encoded data removed]",
      "text/plain": [
       "<Figure size 576x432 with 1 Axes>"
      ]
     },
     "metadata": {
      "needs_background": "light"
     },
     "output_type": "display_data"
    }
   ],
   "source": [
    "plt.figure(figsize=(8,6))\n",
    "plt.rcParams['patch.force_edgecolor'] = True\n",
    "train['product_name'].value_counts().sort_values(ascending=False).hist(bins=4)"
   ]
  },
  {
   "cell_type": "markdown",
   "metadata": {},
   "source": [
    "### We can see that out of 12676 different types of products (12676-15)=12661 products have less than 40 counts per product type."
   ]
  },
  {
   "cell_type": "markdown",
   "metadata": {},
   "source": [
    "### Method I - Using Natural Language Processing"
   ]
  },
  {
   "cell_type": "markdown",
   "metadata": {},
   "source": [
    "### Took feature 'description' to apply NLP using only it and dropped duplicate rows"
   ]
  },
  {
   "cell_type": "code",
   "execution_count": 17,
   "metadata": {},
   "outputs": [
    {
     "data": {
      "text/html": [
       "<div>\n",
       "<style scoped>\n",
       "    .dataframe tbody tr th:only-of-type {\n",
       "        vertical-align: middle;\n",
       "    }\n",
       "\n",
       "    .dataframe tbody tr th {\n",
       "        vertical-align: top;\n",
       "    }\n",
       "\n",
       "    .dataframe thead th {\n",
       "        text-align: right;\n",
       "    }\n",
       "</style>\n",
       "<table border=\"1\" class=\"dataframe\">\n",
       "  <thead>\n",
       "    <tr style=\"text-align: right;\">\n",
       "      <th></th>\n",
       "      <th>product_name</th>\n",
       "      <th>description</th>\n",
       "    </tr>\n",
       "  </thead>\n",
       "  <tbody>\n",
       "    <tr>\n",
       "      <th>0</th>\n",
       "      <td>Alisha Solid Women's Cycling Shorts</td>\n",
       "      <td>Key Features of Alisha Solid Women's Cycling S...</td>\n",
       "    </tr>\n",
       "    <tr>\n",
       "      <th>1</th>\n",
       "      <td>FabHomeDecor Fabric Double Sofa Bed</td>\n",
       "      <td>FabHomeDecor Fabric Double Sofa Bed (Finish Co...</td>\n",
       "    </tr>\n",
       "    <tr>\n",
       "      <th>2</th>\n",
       "      <td>AW Bellies</td>\n",
       "      <td>Key Features of AW Bellies Sandals Wedges Heel...</td>\n",
       "    </tr>\n",
       "    <tr>\n",
       "      <th>3</th>\n",
       "      <td>Sicons All Purpose Arnica Dog Shampoo</td>\n",
       "      <td>Specifications of Sicons All Purpose Arnica Do...</td>\n",
       "    </tr>\n",
       "    <tr>\n",
       "      <th>4</th>\n",
       "      <td>Eternal Gandhi Super Series Crystal Paper Weig...</td>\n",
       "      <td>Key Features of Eternal Gandhi Super Series Cr...</td>\n",
       "    </tr>\n",
       "  </tbody>\n",
       "</table>\n",
       "</div>"
      ],
      "text/plain": [
       "                                        product_name  \\\n",
       "0                Alisha Solid Women's Cycling Shorts   \n",
       "1                FabHomeDecor Fabric Double Sofa Bed   \n",
       "2                                         AW Bellies   \n",
       "3              Sicons All Purpose Arnica Dog Shampoo   \n",
       "4  Eternal Gandhi Super Series Crystal Paper Weig...   \n",
       "\n",
       "                                         description  \n",
       "0  Key Features of Alisha Solid Women's Cycling S...  \n",
       "1  FabHomeDecor Fabric Double Sofa Bed (Finish Co...  \n",
       "2  Key Features of AW Bellies Sandals Wedges Heel...  \n",
       "3  Specifications of Sicons All Purpose Arnica Do...  \n",
       "4  Key Features of Eternal Gandhi Super Series Cr...  "
      ]
     },
     "execution_count": 17,
     "metadata": {},
     "output_type": "execute_result"
    }
   ],
   "source": [
    "flask=train[['product_name','description']]\n",
    "flask = flask.drop_duplicates(subset='product_name')\n",
    "flask.reset_index(drop=True, inplace = True)\n",
    "flask.head()"
   ]
  },
  {
   "cell_type": "markdown",
   "metadata": {},
   "source": [
    "### I have implemented model using Tfidfvectorizer which converts a collection of raw documents to a matrix of TF-IDF features."
   ]
  },
  {
   "cell_type": "code",
   "execution_count": null,
   "metadata": {},
   "outputs": [],
   "source": [
    "from sklearn.feature_extraction.text import TfidfVectorizer\n",
    "\n",
    "tfv = TfidfVectorizer(min_df=3,  max_features=None, \n",
    "            strip_accents='unicode', analyzer='word',token_pattern=r'\\w{1,}',\n",
    "            ngram_range=(1, 3),\n",
    "            stop_words = 'english')\n",
    "\n",
    "flask['description'] = flask['description'].fillna('')"
   ]
  },
  {
   "cell_type": "markdown",
   "metadata": {},
   "source": [
    "### Fitting the TF-IDF on the texts of 'description'"
   ]
  },
  {
   "cell_type": "code",
   "execution_count": null,
   "metadata": {
    "scrolled": true
   },
   "outputs": [],
   "source": [
    "tfv_matrix = tfv.fit_transform(flask['description'])"
   ]
  },
  {
   "cell_type": "code",
   "execution_count": null,
   "metadata": {},
   "outputs": [],
   "source": [
    "from sklearn.metrics.pairwise import sigmoid_kernel\n",
    "\n",
    "sig = sigmoid_kernel(tfv_matrix, tfv_matrix)\n",
    "print(sig[0])"
   ]
  },
  {
   "cell_type": "code",
   "execution_count": null,
   "metadata": {},
   "outputs": [],
   "source": [
    "print(type(tfv_matrix))\n",
    "tfv_matrix.shape"
   ]
  },
  {
   "cell_type": "markdown",
   "metadata": {},
   "source": [
    "### Reverse mapping of indices and product_name"
   ]
  },
  {
   "cell_type": "code",
   "execution_count": null,
   "metadata": {},
   "outputs": [],
   "source": [
    "indices = pd.Series(flask.index, index=flask['product_name']).drop_duplicates()\n",
    "print(indices)"
   ]
  },
  {
   "cell_type": "markdown",
   "metadata": {},
   "source": [
    "### Function to output top 5 similar products"
   ]
  },
  {
   "cell_type": "code",
   "execution_count": null,
   "metadata": {},
   "outputs": [],
   "source": [
    "def give_rec(title, sig=sig):\n",
    "\n",
    "    idx = indices[title]\n",
    " \n",
    "    sig_scores = list(enumerate(sig[idx]))\n",
    " \n",
    "    sig_scores = sorted(sig_scores, key=lambda x: x[1], reverse=True)\n",
    "\n",
    "    sig_scores = sig_scores[1:6]\n",
    "\n",
    "    product_indices = [i[0] for i in sig_scores]\n",
    "\n",
    "    return flask['product_name'].iloc[product_indices]"
   ]
  },
  {
   "cell_type": "markdown",
   "metadata": {},
   "source": [
    "### Put 'product_name' value within \"\" below to get similar products"
   ]
  },
  {
   "cell_type": "code",
   "execution_count": null,
   "metadata": {},
   "outputs": [],
   "source": [
    "give_rec(\"Kanha poshak Wooden All Purpose Chowki\")"
   ]
  },
  {
   "cell_type": "code",
   "execution_count": null,
   "metadata": {},
   "outputs": [],
   "source": [
    "name = flask['product_name'].iloc[8]\n",
    "des = flask['description'].iloc[8]\n",
    "print(name,'\\n')\n",
    "print(des)"
   ]
  },
  {
   "cell_type": "markdown",
   "metadata": {},
   "source": [
    "### Method II - Using weighted average value of different features of items present in a specific product category of the given product"
   ]
  },
  {
   "cell_type": "markdown",
   "metadata": {},
   "source": [
    "### I found these features most important for recommendation as these together contain enough details about product."
   ]
  },
  {
   "cell_type": "code",
   "execution_count": 40,
   "metadata": {},
   "outputs": [],
   "source": [
    "df = train.copy()\n",
    "df = df[['product_name', 'product_category_tree', 'description', 'product_count', 'retail_price', 'discounted_price']]"
   ]
  },
  {
   "cell_type": "markdown",
   "metadata": {},
   "source": [
    "### Dropping duplicate rows"
   ]
  },
  {
   "cell_type": "code",
   "execution_count": 41,
   "metadata": {},
   "outputs": [
    {
     "name": "stdout",
     "output_type": "stream",
     "text": [
      "False    12676\n",
      "dtype: int64\n"
     ]
    },
    {
     "data": {
      "text/html": [
       "<div>\n",
       "<style scoped>\n",
       "    .dataframe tbody tr th:only-of-type {\n",
       "        vertical-align: middle;\n",
       "    }\n",
       "\n",
       "    .dataframe tbody tr th {\n",
       "        vertical-align: top;\n",
       "    }\n",
       "\n",
       "    .dataframe thead th {\n",
       "        text-align: right;\n",
       "    }\n",
       "</style>\n",
       "<table border=\"1\" class=\"dataframe\">\n",
       "  <thead>\n",
       "    <tr style=\"text-align: right;\">\n",
       "      <th></th>\n",
       "      <th>product_name</th>\n",
       "      <th>product_category_tree</th>\n",
       "      <th>description</th>\n",
       "      <th>product_count</th>\n",
       "      <th>retail_price</th>\n",
       "      <th>discounted_price</th>\n",
       "    </tr>\n",
       "  </thead>\n",
       "  <tbody>\n",
       "    <tr>\n",
       "      <th>0</th>\n",
       "      <td>Alisha Solid Women's Cycling Shorts</td>\n",
       "      <td>[\"Clothing &gt;&gt; Women's Clothing &gt;&gt; Lingerie, Sl...</td>\n",
       "      <td>Key Features of Alisha Solid Women's Cycling S...</td>\n",
       "      <td>7</td>\n",
       "      <td>999.0</td>\n",
       "      <td>379.0</td>\n",
       "    </tr>\n",
       "    <tr>\n",
       "      <th>1</th>\n",
       "      <td>FabHomeDecor Fabric Double Sofa Bed</td>\n",
       "      <td>[\"Furniture &gt;&gt; Living Room Furniture &gt;&gt; Sofa B...</td>\n",
       "      <td>FabHomeDecor Fabric Double Sofa Bed (Finish Co...</td>\n",
       "      <td>4</td>\n",
       "      <td>32157.0</td>\n",
       "      <td>22646.0</td>\n",
       "    </tr>\n",
       "    <tr>\n",
       "      <th>2</th>\n",
       "      <td>AW Bellies</td>\n",
       "      <td>[\"Footwear &gt;&gt; Women's Footwear &gt;&gt; Ballerinas &gt;...</td>\n",
       "      <td>Key Features of AW Bellies Sandals Wedges Heel...</td>\n",
       "      <td>1</td>\n",
       "      <td>999.0</td>\n",
       "      <td>499.0</td>\n",
       "    </tr>\n",
       "    <tr>\n",
       "      <th>3</th>\n",
       "      <td>Sicons All Purpose Arnica Dog Shampoo</td>\n",
       "      <td>[\"Pet Supplies &gt;&gt; Grooming &gt;&gt; Skin &amp; Coat Care...</td>\n",
       "      <td>Specifications of Sicons All Purpose Arnica Do...</td>\n",
       "      <td>1</td>\n",
       "      <td>220.0</td>\n",
       "      <td>210.0</td>\n",
       "    </tr>\n",
       "    <tr>\n",
       "      <th>4</th>\n",
       "      <td>Eternal Gandhi Super Series Crystal Paper Weig...</td>\n",
       "      <td>[\"Eternal Gandhi Super Series Crystal Paper We...</td>\n",
       "      <td>Key Features of Eternal Gandhi Super Series Cr...</td>\n",
       "      <td>1</td>\n",
       "      <td>430.0</td>\n",
       "      <td>430.0</td>\n",
       "    </tr>\n",
       "    <tr>\n",
       "      <th>5</th>\n",
       "      <td>dilli bazaaar Bellies, Corporate Casuals, Casuals</td>\n",
       "      <td>[\"Footwear &gt;&gt; Women's Footwear &gt;&gt; Ballerinas &gt;...</td>\n",
       "      <td>Key Features of dilli bazaaar Bellies, Corpora...</td>\n",
       "      <td>1</td>\n",
       "      <td>699.0</td>\n",
       "      <td>349.0</td>\n",
       "    </tr>\n",
       "    <tr>\n",
       "      <th>6</th>\n",
       "      <td>Ladela Bellies</td>\n",
       "      <td>[\"Footwear &gt;&gt; Women's Footwear &gt;&gt; Ballerinas &gt;...</td>\n",
       "      <td>Key Features of Ladela Bellies Brand: LADELA C...</td>\n",
       "      <td>1</td>\n",
       "      <td>1724.0</td>\n",
       "      <td>950.0</td>\n",
       "    </tr>\n",
       "    <tr>\n",
       "      <th>7</th>\n",
       "      <td>Carrel Printed Women's</td>\n",
       "      <td>[\"Clothing &gt;&gt; Women's Clothing &gt;&gt; Sports &amp; Gym...</td>\n",
       "      <td>Key Features of Carrel Printed Women's Fabric:...</td>\n",
       "      <td>2</td>\n",
       "      <td>2299.0</td>\n",
       "      <td>910.0</td>\n",
       "    </tr>\n",
       "    <tr>\n",
       "      <th>8</th>\n",
       "      <td>Sicons All Purpose Tea Tree Dog Shampoo</td>\n",
       "      <td>[\"Pet Supplies &gt;&gt; Grooming &gt;&gt; Skin &amp; Coat Care...</td>\n",
       "      <td>Specifications of Sicons All Purpose Tea Tree ...</td>\n",
       "      <td>1</td>\n",
       "      <td>NaN</td>\n",
       "      <td>NaN</td>\n",
       "    </tr>\n",
       "    <tr>\n",
       "      <th>9</th>\n",
       "      <td>Freelance Vacuum Bottles 350 ml Bottle</td>\n",
       "      <td>[\"Pens &amp; Stationery &gt;&gt; School Supplies &gt;&gt; Wate...</td>\n",
       "      <td>Specifications of Freelance Vacuum Bottles 350...</td>\n",
       "      <td>1</td>\n",
       "      <td>699.0</td>\n",
       "      <td>699.0</td>\n",
       "    </tr>\n",
       "  </tbody>\n",
       "</table>\n",
       "</div>"
      ],
      "text/plain": [
       "                                        product_name  \\\n",
       "0                Alisha Solid Women's Cycling Shorts   \n",
       "1                FabHomeDecor Fabric Double Sofa Bed   \n",
       "2                                         AW Bellies   \n",
       "3              Sicons All Purpose Arnica Dog Shampoo   \n",
       "4  Eternal Gandhi Super Series Crystal Paper Weig...   \n",
       "5  dilli bazaaar Bellies, Corporate Casuals, Casuals   \n",
       "6                                     Ladela Bellies   \n",
       "7                             Carrel Printed Women's   \n",
       "8            Sicons All Purpose Tea Tree Dog Shampoo   \n",
       "9             Freelance Vacuum Bottles 350 ml Bottle   \n",
       "\n",
       "                               product_category_tree  \\\n",
       "0  [\"Clothing >> Women's Clothing >> Lingerie, Sl...   \n",
       "1  [\"Furniture >> Living Room Furniture >> Sofa B...   \n",
       "2  [\"Footwear >> Women's Footwear >> Ballerinas >...   \n",
       "3  [\"Pet Supplies >> Grooming >> Skin & Coat Care...   \n",
       "4  [\"Eternal Gandhi Super Series Crystal Paper We...   \n",
       "5  [\"Footwear >> Women's Footwear >> Ballerinas >...   \n",
       "6  [\"Footwear >> Women's Footwear >> Ballerinas >...   \n",
       "7  [\"Clothing >> Women's Clothing >> Sports & Gym...   \n",
       "8  [\"Pet Supplies >> Grooming >> Skin & Coat Care...   \n",
       "9  [\"Pens & Stationery >> School Supplies >> Wate...   \n",
       "\n",
       "                                         description  product_count  \\\n",
       "0  Key Features of Alisha Solid Women's Cycling S...              7   \n",
       "1  FabHomeDecor Fabric Double Sofa Bed (Finish Co...              4   \n",
       "2  Key Features of AW Bellies Sandals Wedges Heel...              1   \n",
       "3  Specifications of Sicons All Purpose Arnica Do...              1   \n",
       "4  Key Features of Eternal Gandhi Super Series Cr...              1   \n",
       "5  Key Features of dilli bazaaar Bellies, Corpora...              1   \n",
       "6  Key Features of Ladela Bellies Brand: LADELA C...              1   \n",
       "7  Key Features of Carrel Printed Women's Fabric:...              2   \n",
       "8  Specifications of Sicons All Purpose Tea Tree ...              1   \n",
       "9  Specifications of Freelance Vacuum Bottles 350...              1   \n",
       "\n",
       "   retail_price  discounted_price  \n",
       "0         999.0             379.0  \n",
       "1       32157.0           22646.0  \n",
       "2         999.0             499.0  \n",
       "3         220.0             210.0  \n",
       "4         430.0             430.0  \n",
       "5         699.0             349.0  \n",
       "6        1724.0             950.0  \n",
       "7        2299.0             910.0  \n",
       "8           NaN               NaN  \n",
       "9         699.0             699.0  "
      ]
     },
     "execution_count": 41,
     "metadata": {},
     "output_type": "execute_result"
    }
   ],
   "source": [
    "df.drop_duplicates(subset='product_name', inplace=True)\n",
    "df.reset_index(inplace=True, drop=True)\n",
    "print(df.duplicated().value_counts())\n",
    "df.head(10)"
   ]
  },
  {
   "cell_type": "markdown",
   "metadata": {},
   "source": [
    "### Below are the functions I defined and applied to extract details about sub-category from 'product_category_tree'"
   ]
  },
  {
   "cell_type": "code",
   "execution_count": 42,
   "metadata": {},
   "outputs": [],
   "source": [
    "df['MainCategory'] = df['product_category_tree'].apply(lambda x: x.split(' >>')[0][2:])\n",
    "\n",
    "def secondary(x):\n",
    "    try:\n",
    "        return x.split(' >>')[1][1:]\n",
    "    except IndexError:\n",
    "        return 'None'\n",
    "    \n",
    "def tertiary(x):\n",
    "    try:\n",
    "        return x.split(' >>')[2][1:]\n",
    "    except IndexError:\n",
    "        return 'None'\n",
    "    \n",
    "def quaternary(x):\n",
    "    try:\n",
    "        return x.split(' >>')[3][1:]\n",
    "    except IndexError:\n",
    "        return 'None'\n",
    "\n",
    "def enhance(x):\n",
    "    try:\n",
    "        return x.split('\"]')[0]\n",
    "    except IndexError:\n",
    "        return 'None'"
   ]
  },
  {
   "cell_type": "code",
   "execution_count": 43,
   "metadata": {},
   "outputs": [],
   "source": [
    "df['SecondaryCategory'] = df['product_category_tree'].apply(secondary)\n",
    "df['SecondaryCategory'] = df['SecondaryCategory'].apply(enhance)\n",
    "df['TertiaryCategory'] = df['product_category_tree'].apply(tertiary)\n",
    "df['TertiaryCategory'] = df['TertiaryCategory'].apply(enhance)\n",
    "df['QuaternaryCategory'] = df['product_category_tree'].apply(quaternary)\n",
    "df['QuaternaryCategory'] = df['QuaternaryCategory'].apply(enhance)"
   ]
  },
  {
   "cell_type": "markdown",
   "metadata": {},
   "source": [
    "### Dropping product_category_tree and rows containing NaN values of retail_price"
   ]
  },
  {
   "cell_type": "code",
   "execution_count": 44,
   "metadata": {},
   "outputs": [
    {
     "data": {
      "text/html": [
       "<div>\n",
       "<style scoped>\n",
       "    .dataframe tbody tr th:only-of-type {\n",
       "        vertical-align: middle;\n",
       "    }\n",
       "\n",
       "    .dataframe tbody tr th {\n",
       "        vertical-align: top;\n",
       "    }\n",
       "\n",
       "    .dataframe thead th {\n",
       "        text-align: right;\n",
       "    }\n",
       "</style>\n",
       "<table border=\"1\" class=\"dataframe\">\n",
       "  <thead>\n",
       "    <tr style=\"text-align: right;\">\n",
       "      <th></th>\n",
       "      <th>product_name</th>\n",
       "      <th>description</th>\n",
       "      <th>product_count</th>\n",
       "      <th>retail_price</th>\n",
       "      <th>discounted_price</th>\n",
       "      <th>MainCategory</th>\n",
       "      <th>SecondaryCategory</th>\n",
       "      <th>TertiaryCategory</th>\n",
       "      <th>QuaternaryCategory</th>\n",
       "    </tr>\n",
       "  </thead>\n",
       "  <tbody>\n",
       "    <tr>\n",
       "      <th>0</th>\n",
       "      <td>Alisha Solid Women's Cycling Shorts</td>\n",
       "      <td>Key Features of Alisha Solid Women's Cycling S...</td>\n",
       "      <td>7</td>\n",
       "      <td>999.0</td>\n",
       "      <td>379.0</td>\n",
       "      <td>Clothing</td>\n",
       "      <td>Women's Clothing</td>\n",
       "      <td>Lingerie, Sleep &amp; Swimwear</td>\n",
       "      <td>Shorts</td>\n",
       "    </tr>\n",
       "    <tr>\n",
       "      <th>1</th>\n",
       "      <td>FabHomeDecor Fabric Double Sofa Bed</td>\n",
       "      <td>FabHomeDecor Fabric Double Sofa Bed (Finish Co...</td>\n",
       "      <td>4</td>\n",
       "      <td>32157.0</td>\n",
       "      <td>22646.0</td>\n",
       "      <td>Furniture</td>\n",
       "      <td>Living Room Furniture</td>\n",
       "      <td>Sofa Beds &amp; Futons</td>\n",
       "      <td>FabHomeDecor Fabric Double Sofa Bed (Finish Co...</td>\n",
       "    </tr>\n",
       "    <tr>\n",
       "      <th>2</th>\n",
       "      <td>AW Bellies</td>\n",
       "      <td>Key Features of AW Bellies Sandals Wedges Heel...</td>\n",
       "      <td>1</td>\n",
       "      <td>999.0</td>\n",
       "      <td>499.0</td>\n",
       "      <td>Footwear</td>\n",
       "      <td>Women's Footwear</td>\n",
       "      <td>Ballerinas</td>\n",
       "      <td>AW Bellies</td>\n",
       "    </tr>\n",
       "    <tr>\n",
       "      <th>3</th>\n",
       "      <td>Sicons All Purpose Arnica Dog Shampoo</td>\n",
       "      <td>Specifications of Sicons All Purpose Arnica Do...</td>\n",
       "      <td>1</td>\n",
       "      <td>220.0</td>\n",
       "      <td>210.0</td>\n",
       "      <td>Pet Supplies</td>\n",
       "      <td>Grooming</td>\n",
       "      <td>Skin &amp; Coat Care</td>\n",
       "      <td>Shampoo</td>\n",
       "    </tr>\n",
       "    <tr>\n",
       "      <th>4</th>\n",
       "      <td>Eternal Gandhi Super Series Crystal Paper Weig...</td>\n",
       "      <td>Key Features of Eternal Gandhi Super Series Cr...</td>\n",
       "      <td>1</td>\n",
       "      <td>430.0</td>\n",
       "      <td>430.0</td>\n",
       "      <td>Eternal Gandhi Super Series Crystal Paper Weig...</td>\n",
       "      <td>None</td>\n",
       "      <td>None</td>\n",
       "      <td>None</td>\n",
       "    </tr>\n",
       "  </tbody>\n",
       "</table>\n",
       "</div>"
      ],
      "text/plain": [
       "                                        product_name  \\\n",
       "0                Alisha Solid Women's Cycling Shorts   \n",
       "1                FabHomeDecor Fabric Double Sofa Bed   \n",
       "2                                         AW Bellies   \n",
       "3              Sicons All Purpose Arnica Dog Shampoo   \n",
       "4  Eternal Gandhi Super Series Crystal Paper Weig...   \n",
       "\n",
       "                                         description  product_count  \\\n",
       "0  Key Features of Alisha Solid Women's Cycling S...              7   \n",
       "1  FabHomeDecor Fabric Double Sofa Bed (Finish Co...              4   \n",
       "2  Key Features of AW Bellies Sandals Wedges Heel...              1   \n",
       "3  Specifications of Sicons All Purpose Arnica Do...              1   \n",
       "4  Key Features of Eternal Gandhi Super Series Cr...              1   \n",
       "\n",
       "   retail_price  discounted_price  \\\n",
       "0         999.0             379.0   \n",
       "1       32157.0           22646.0   \n",
       "2         999.0             499.0   \n",
       "3         220.0             210.0   \n",
       "4         430.0             430.0   \n",
       "\n",
       "                                        MainCategory      SecondaryCategory  \\\n",
       "0                                           Clothing       Women's Clothing   \n",
       "1                                          Furniture  Living Room Furniture   \n",
       "2                                           Footwear       Women's Footwear   \n",
       "3                                       Pet Supplies               Grooming   \n",
       "4  Eternal Gandhi Super Series Crystal Paper Weig...                   None   \n",
       "\n",
       "             TertiaryCategory  \\\n",
       "0  Lingerie, Sleep & Swimwear   \n",
       "1          Sofa Beds & Futons   \n",
       "2                  Ballerinas   \n",
       "3            Skin & Coat Care   \n",
       "4                        None   \n",
       "\n",
       "                                  QuaternaryCategory  \n",
       "0                                             Shorts  \n",
       "1  FabHomeDecor Fabric Double Sofa Bed (Finish Co...  \n",
       "2                                         AW Bellies  \n",
       "3                                            Shampoo  \n",
       "4                                               None  "
      ]
     },
     "execution_count": 44,
     "metadata": {},
     "output_type": "execute_result"
    }
   ],
   "source": [
    "df.drop(columns=['product_category_tree'], inplace=True)\n",
    "df.dropna(axis = 0, subset = ['retail_price'], inplace=True)\n",
    "df.reset_index(inplace=True, drop=True)\n",
    "df.head()"
   ]
  },
  {
   "cell_type": "markdown",
   "metadata": {},
   "source": [
    "### Froming groups for each of the product sub-category"
   ]
  },
  {
   "cell_type": "code",
   "execution_count": 45,
   "metadata": {},
   "outputs": [
    {
     "data": {
      "text/plain": [
       "'Eternal Gandhi Super Series Crystal Paper Weights  with Silver Finish'"
      ]
     },
     "execution_count": 45,
     "metadata": {},
     "output_type": "execute_result"
    }
   ],
   "source": [
    "df['product_name'][4]"
   ]
  },
  {
   "cell_type": "code",
   "execution_count": 46,
   "metadata": {},
   "outputs": [],
   "source": [
    "MainCategory = (df.groupby(by = ['MainCategory']))\n",
    "SecondaryCategory = (df.groupby(by = ['SecondaryCategory']))\n",
    "TertiaryCategory = (df.groupby(by = ['TertiaryCategory']))\n",
    "QuaternaryCategory = (df.groupby(by = ['QuaternaryCategory']))"
   ]
  },
  {
   "cell_type": "code",
   "execution_count": 47,
   "metadata": {},
   "outputs": [
    {
     "name": "stdout",
     "output_type": "stream",
     "text": [
      "Types of Main Category = 235\n",
      "Types of Secondary Category = 213\n",
      "Types of Tertiary Category = 859\n",
      "Types of Quaternary Category = 2274\n"
     ]
    }
   ],
   "source": [
    "print(\"Types of Main Category = {}\".format(len(MainCategory)))\n",
    "print(\"Types of Secondary Category = {}\".format(len(SecondaryCategory)))\n",
    "print(\"Types of Tertiary Category = {}\".format(len(TertiaryCategory)))\n",
    "print(\"Types of Quaternary Category = {}\".format(len(QuaternaryCategory)))"
   ]
  },
  {
   "cell_type": "markdown",
   "metadata": {},
   "source": [
    "### Distribution of products in groups of MainCategory and SecondaryCategory "
   ]
  },
  {
   "cell_type": "code",
   "execution_count": 48,
   "metadata": {},
   "outputs": [
    {
     "data": {
      "image/png": "[encoded data removed]",
      "text/plain": [
       "<Figure size 864x576 with 1 Axes>"
      ]
     },
     "metadata": {
      "needs_background": "light"
     },
     "output_type": "display_data"
    },
    {
     "name": "stdout",
     "output_type": "stream",
     "text": [
      "Top Ten Main Categories by Sales.\n",
      "\n",
      "Clothing                      3009\n",
      "Jewellery                     1945\n",
      "Automotive                     984\n",
      "Footwear                       831\n",
      "Home Decor & Festive Needs     677\n",
      "Beauty and Personal Care       658\n",
      "Kitchen & Dining               624\n",
      "Computers                      564\n",
      "Watches                        528\n",
      "Mobiles & Accessories          473\n",
      "Name: MainCategory, dtype: int64\n"
     ]
    }
   ],
   "source": [
    "plt.figure(figsize=(12,8))\n",
    "df['MainCategory'].value_counts()[:20].sort_values(ascending=True).plot(kind='barh')\n",
    "plt.title('Main Category',fontsize=20)\n",
    "plt.yticks(fontsize=12)\n",
    "plt.xticks(fontsize=12)\n",
    "plt.show()\n",
    "print('Top Ten Main Categories by Sales.\\n')\n",
    "print(df['MainCategory'].value_counts()[:10])"
   ]
  },
  {
   "cell_type": "code",
   "execution_count": 49,
   "metadata": {},
   "outputs": [
    {
     "data": {
      "image/png": "[encoded data removed]",
      "text/plain": [
       "<Figure size 864x576 with 1 Axes>"
      ]
     },
     "metadata": {
      "needs_background": "light"
     },
     "output_type": "display_data"
    },
    {
     "name": "stdout",
     "output_type": "stream",
     "text": [
      "Top Ten Secondary Categories by Sales.\n",
      "\n",
      "Women's Clothing                1999\n",
      "Accessories & Spare parts        905\n",
      "Necklaces & Chains               797\n",
      "Men's Clothing                   666\n",
      "Rings                            522\n",
      "Wrist Watches                    521\n",
      "Women's Footwear                 479\n",
      "Fragrances                       345\n",
      "Bangles, Bracelets & Armlets     344\n",
      "Kids' Clothing                   341\n",
      "Name: SecondaryCategory, dtype: int64\n"
     ]
    }
   ],
   "source": [
    "plt.figure(figsize=(12,8))\n",
    "df['SecondaryCategory'].value_counts()[:20].sort_values(ascending=True).plot(kind='barh')\n",
    "plt.title('Secondary Category',fontsize=20)\n",
    "plt.yticks(fontsize=12)\n",
    "plt.xticks(fontsize=12)\n",
    "plt.show()\n",
    "print('Top Ten Secondary Categories by Sales.\\n')\n",
    "print(df['SecondaryCategory'].value_counts()[:10])"
   ]
  },
  {
   "cell_type": "code",
   "execution_count": null,
   "metadata": {},
   "outputs": [],
   "source": []
  },
  {
   "cell_type": "markdown",
   "metadata": {},
   "source": [
    "### Function get products classified according to its class values"
   ]
  },
  {
   "cell_type": "code",
   "execution_count": 50,
   "metadata": {},
   "outputs": [],
   "source": [
    "def classifyby(product_row):\n",
    "    \n",
    "    if product_row['QuaternaryCategory'][i] != 'None':\n",
    "        category = product_row['QuaternaryCategory'][i]\n",
    "        value = QuaternaryCategory.get_group(category)\n",
    "        \n",
    "    elif product_row['TertiaryCategory'][i] != 'None':\n",
    "        category = product_row['TertiaryCategory'][i]\n",
    "        value = TertiaryCategory.get_group(category)\n",
    "        \n",
    "    elif product_row['SecondaryCategory'][i] != 'None':\n",
    "        category = product_row['SecondaryCategory'][i]\n",
    "        value = SecondaryCategory.get_group(category)\n",
    "        \n",
    "    else:\n",
    "        category = product_row['MainCategory'][i]\n",
    "        value = MainCategory.get_group(category)\n",
    "    \n",
    "    return value\n",
    "    "
   ]
  },
  {
   "cell_type": "markdown",
   "metadata": {},
   "source": [
    "### Put 'product_name' value within \"\" below to get similar products"
   ]
  },
  {
   "cell_type": "code",
   "execution_count": 51,
   "metadata": {},
   "outputs": [
    {
     "name": "stdout",
     "output_type": "stream",
     "text": [
      "Women's Clothing\n"
     ]
    }
   ],
   "source": [
    "product_row = df[df['product_name']==\"Glus Wedding Lingerie Set\"]\n",
    "i = product_row.index[0]\n",
    "text = product_row['SecondaryCategory'][i]\n",
    "print(text)"
   ]
  },
  {
   "cell_type": "code",
   "execution_count": 52,
   "metadata": {},
   "outputs": [
    {
     "data": {
      "text/html": [
       "<div>\n",
       "<style scoped>\n",
       "    .dataframe tbody tr th:only-of-type {\n",
       "        vertical-align: middle;\n",
       "    }\n",
       "\n",
       "    .dataframe tbody tr th {\n",
       "        vertical-align: top;\n",
       "    }\n",
       "\n",
       "    .dataframe thead th {\n",
       "        text-align: right;\n",
       "    }\n",
       "</style>\n",
       "<table border=\"1\" class=\"dataframe\">\n",
       "  <thead>\n",
       "    <tr style=\"text-align: right;\">\n",
       "      <th></th>\n",
       "      <th>product_name</th>\n",
       "      <th>description</th>\n",
       "      <th>product_count</th>\n",
       "      <th>retail_price</th>\n",
       "      <th>discounted_price</th>\n",
       "      <th>MainCategory</th>\n",
       "      <th>SecondaryCategory</th>\n",
       "      <th>TertiaryCategory</th>\n",
       "      <th>QuaternaryCategory</th>\n",
       "    </tr>\n",
       "  </thead>\n",
       "  <tbody>\n",
       "    <tr>\n",
       "      <th>14</th>\n",
       "      <td>Glus Wedding Lingerie Set</td>\n",
       "      <td>Glus Wedding Lingerie Set - Buy Turquoise Glus...</td>\n",
       "      <td>1</td>\n",
       "      <td>1299.0</td>\n",
       "      <td>699.0</td>\n",
       "      <td>Clothing</td>\n",
       "      <td>Women's Clothing</td>\n",
       "      <td>Lingerie, Sleep &amp; Swimwear</td>\n",
       "      <td>Lingerie Sets</td>\n",
       "    </tr>\n",
       "    <tr>\n",
       "      <th>328</th>\n",
       "      <td>Lovelady Wedding Lingerie Set</td>\n",
       "      <td>Lovelady Wedding Lingerie Set\\n               ...</td>\n",
       "      <td>1</td>\n",
       "      <td>895.0</td>\n",
       "      <td>725.0</td>\n",
       "      <td>Clothing</td>\n",
       "      <td>Women's Clothing</td>\n",
       "      <td>Lingerie, Sleep &amp; Swimwear</td>\n",
       "      <td>Lingerie Sets</td>\n",
       "    </tr>\n",
       "    <tr>\n",
       "      <th>1053</th>\n",
       "      <td>Hers by Herman Lingerie Set</td>\n",
       "      <td>Key Features of Hers by Herman Lingerie Set Fa...</td>\n",
       "      <td>1</td>\n",
       "      <td>2443.0</td>\n",
       "      <td>999.0</td>\n",
       "      <td>Clothing</td>\n",
       "      <td>Women's Clothing</td>\n",
       "      <td>Lingerie, Sleep &amp; Swimwear</td>\n",
       "      <td>Lingerie Sets</td>\n",
       "    </tr>\n",
       "    <tr>\n",
       "      <th>1055</th>\n",
       "      <td>UR Image Lingerie Set</td>\n",
       "      <td>Key Features of UR Image Lingerie Set Fabric: ...</td>\n",
       "      <td>1</td>\n",
       "      <td>599.0</td>\n",
       "      <td>399.0</td>\n",
       "      <td>Clothing</td>\n",
       "      <td>Women's Clothing</td>\n",
       "      <td>Lingerie, Sleep &amp; Swimwear</td>\n",
       "      <td>Lingerie Sets</td>\n",
       "    </tr>\n",
       "    <tr>\n",
       "      <th>1123</th>\n",
       "      <td>Da Intimo Casual Lingerie Set</td>\n",
       "      <td>Da Intimo Casual Lingerie Set - Buy Black Da I...</td>\n",
       "      <td>1</td>\n",
       "      <td>1599.0</td>\n",
       "      <td>1599.0</td>\n",
       "      <td>Clothing</td>\n",
       "      <td>Women's Clothing</td>\n",
       "      <td>Lingerie, Sleep &amp; Swimwear</td>\n",
       "      <td>Lingerie Sets</td>\n",
       "    </tr>\n",
       "    <tr>\n",
       "      <th>1128</th>\n",
       "      <td>Roxy Beach Wear Lingerie Set</td>\n",
       "      <td>Roxy Beach Wear Lingerie Set\\n                ...</td>\n",
       "      <td>1</td>\n",
       "      <td>3995.0</td>\n",
       "      <td>1997.0</td>\n",
       "      <td>Clothing</td>\n",
       "      <td>Women's Clothing</td>\n",
       "      <td>Lingerie, Sleep &amp; Swimwear</td>\n",
       "      <td>Lingerie Sets</td>\n",
       "    </tr>\n",
       "  </tbody>\n",
       "</table>\n",
       "</div>"
      ],
      "text/plain": [
       "                       product_name  \\\n",
       "14        Glus Wedding Lingerie Set   \n",
       "328   Lovelady Wedding Lingerie Set   \n",
       "1053    Hers by Herman Lingerie Set   \n",
       "1055          UR Image Lingerie Set   \n",
       "1123  Da Intimo Casual Lingerie Set   \n",
       "1128   Roxy Beach Wear Lingerie Set   \n",
       "\n",
       "                                            description  product_count  \\\n",
       "14    Glus Wedding Lingerie Set - Buy Turquoise Glus...              1   \n",
       "328   Lovelady Wedding Lingerie Set\\n               ...              1   \n",
       "1053  Key Features of Hers by Herman Lingerie Set Fa...              1   \n",
       "1055  Key Features of UR Image Lingerie Set Fabric: ...              1   \n",
       "1123  Da Intimo Casual Lingerie Set - Buy Black Da I...              1   \n",
       "1128  Roxy Beach Wear Lingerie Set\\n                ...              1   \n",
       "\n",
       "      retail_price  discounted_price MainCategory SecondaryCategory  \\\n",
       "14          1299.0             699.0     Clothing  Women's Clothing   \n",
       "328          895.0             725.0     Clothing  Women's Clothing   \n",
       "1053        2443.0             999.0     Clothing  Women's Clothing   \n",
       "1055         599.0             399.0     Clothing  Women's Clothing   \n",
       "1123        1599.0            1599.0     Clothing  Women's Clothing   \n",
       "1128        3995.0            1997.0     Clothing  Women's Clothing   \n",
       "\n",
       "                TertiaryCategory QuaternaryCategory  \n",
       "14    Lingerie, Sleep & Swimwear      Lingerie Sets  \n",
       "328   Lingerie, Sleep & Swimwear      Lingerie Sets  \n",
       "1053  Lingerie, Sleep & Swimwear      Lingerie Sets  \n",
       "1055  Lingerie, Sleep & Swimwear      Lingerie Sets  \n",
       "1123  Lingerie, Sleep & Swimwear      Lingerie Sets  \n",
       "1128  Lingerie, Sleep & Swimwear      Lingerie Sets  "
      ]
     },
     "execution_count": 52,
     "metadata": {},
     "output_type": "execute_result"
    }
   ],
   "source": [
    "tester = classifyby(product_row)\n",
    "tester.head(6)"
   ]
  },
  {
   "cell_type": "markdown",
   "metadata": {},
   "source": [
    "### More accuracy can be achieved by taking into account 'retail_price' and 'description' features"
   ]
  },
  {
   "cell_type": "code",
   "execution_count": null,
   "metadata": {},
   "outputs": [],
   "source": []
  },
  {
   "cell_type": "code",
   "execution_count": null,
   "metadata": {},
   "outputs": [],
   "source": []
  }
 ],
 "metadata": {
  "kernelspec": {
   "display_name": "Python 3",
   "language": "python",
   "name": "python3"
  },
  "language_info": {
   "codemirror_mode": {
    "name": "ipython",
    "version": 3
   },
   "file_extension": ".py",
   "mimetype": "text/x-python",
   "name": "python",
   "nbconvert_exporter": "python",
   "pygments_lexer": "ipython3",
   "version": "3.6.9"
  }
 },
 "nbformat": 4,
 "nbformat_minor": 2
}
